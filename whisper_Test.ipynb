{
  "nbformat": 4,
  "nbformat_minor": 0,
  "metadata": {
    "colab": {
      "provenance": [],
      "gpuType": "T4",
      "include_colab_link": true
    },
    "kernelspec": {
      "name": "python3",
      "display_name": "Python 3"
    },
    "language_info": {
      "name": "python"
    },
    "accelerator": "GPU"
  },
  "cells": [
    {
      "cell_type": "markdown",
      "metadata": {
        "id": "view-in-github",
        "colab_type": "text"
      },
      "source": [
        "<a href=\"https://colab.research.google.com/github/whikqp/utils/blob/main/whisper_Test.ipynb\" target=\"_parent\"><img src=\"https://colab.research.google.com/assets/colab-badge.svg\" alt=\"Open In Colab\"/></a>"
      ]
    },
    {
      "cell_type": "markdown",
      "source": [
        "# 語音轉文字 AI 工具\n",
        "本工具使用 [OpenAI 的開源工具 Whisper](https://github.com/openai/whisper) 模型, 可以相對精準的將隨語音轉文字。\n",
        "\n",
        "# (一) 選擇適合的運作環境： T4 GPU\n",
        "本 Colab 虛擬機器使用為免費、多GPU的環境。已指定 T4 GPU 版本。\n",
        "\n",
        "若由  Github 直接開啟，可以忽略此說明。"
      ],
      "metadata": {
        "id": "Z8j9agRoP2Ef"
      }
    },
    {
      "cell_type": "code",
      "execution_count": null,
      "metadata": {
        "id": "ESQe_Qm7Ceoz",
        "cellView": "form"
      },
      "outputs": [],
      "source": [
        "# @title (1) 安裝 whisper\n",
        "!pip install git+https://github.com/openai/whisper.git"
      ]
    },
    {
      "cell_type": "markdown",
      "source": [
        "### (2) 掛載雲端硬碟\n",
        "1. 透過 Coloab 左邊的操作介面掛載\n",
        "2. 上傳音檔/影像檔到 Google drive\n",
        "  - 個人偏好在 Google drive 建一個 tmp 資料夾\n",
        "  - 將音檔上傳到 tmp 資料夾\n",
        "  - 在 Colab 左邊的掛載介面找到 drive => MyDrive => tmp\n",
        "  - 點選上載的音檔，按滑鼠右鍵，點選 複製路徑\n",
        "3. 將複製的路徑貼到轉檔區塊的 filenames 欄位中\n"
      ],
      "metadata": {
        "id": "vj1rk1zOKoh7"
      }
    },
    {
      "cell_type": "code",
      "source": [
        "# @title (3) 轉檔\n",
        "import os\n",
        "filename = \"/content/424.MP3\" # @param {type:\"string\"}\n",
        "#@markdown 設定使用的模型, 請參考 [Whisper Model Card](https://github.com/openai/whisper/blob/main/model-card.md) 選擇適合的模型\n",
        "model= \"large-v3\" # @param {type:\"string\"}\n",
        "\n",
        "#@markdown 設定主要的語言，如 Chinese, English，其它請參表 [tokenizer 文件](https://github.com/openai/whisper/blob/main/whisper/tokenizer.py)\n",
        "language = \"Chinese\" # @param {type:\"string\"}\n",
        "os.chdir(os.path.dirname(filename))\n",
        "os.getcwd()\n",
        "!whisper \"{filename}\" --model {model} --language {language}"
      ],
      "metadata": {
        "id": "t1k2RIWHDfhz"
      },
      "execution_count": null,
      "outputs": []
    }
  ]
}